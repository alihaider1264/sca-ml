{
 "cells": [
  {
   "cell_type": "code",
   "execution_count": 9,
   "id": "2ba8b5a7",
   "metadata": {},
   "outputs": [],
   "source": [
    "%matplotlib inline\n",
    "import os\n",
    "import pandas as pd\n",
    "import matplotlib.pyplot as plt\n",
    "import seaborn as sns"
   ]
  },
  {
   "cell_type": "code",
   "execution_count": null,
   "id": "c3e988ac",
   "metadata": {},
   "outputs": [],
   "source": [
    "df = df + pd.read_json('data.json')"
   ]
  },
  {
   "cell_type": "code",
   "execution_count": 7,
   "id": "df7a370c",
   "metadata": {},
   "outputs": [],
   "source": [
    "def searchFiles(path, fileformats):\n",
    "    \n",
    "    filesToDo = []\n",
    "    for root, dirs, files in os.walk(path):\n",
    "        for file in files:\n",
    "            for fileformat in fileformats:\n",
    "                if file.endswith(fileformat):\n",
    "                    #code to generate a list of paths of files to generate logs for\n",
    "                    filesToDo.append(os.path.join(root, file).removeprefix(path))\n",
    "    return filesToDo"
   ]
  },
  {
   "cell_type": "code",
   "execution_count": 14,
   "id": "85b55034",
   "metadata": {},
   "outputs": [],
   "source": [
    "filesToIndex = searchFiles(\"D:\\PythonTest\",\".json\")"
   ]
  },
  {
   "cell_type": "code",
   "execution_count": null,
   "id": "375e6582",
   "metadata": {},
   "outputs": [],
   "source": []
  },
  {
   "cell_type": "code",
   "execution_count": null,
   "id": "07a4533e",
   "metadata": {},
   "outputs": [],
   "source": []
  },
  {
   "cell_type": "code",
   "execution_count": null,
   "id": "73aae171",
   "metadata": {},
   "outputs": [],
   "source": []
  }
 ],
 "metadata": {
  "kernelspec": {
   "display_name": "Python 3 (ipykernel)",
   "language": "python",
   "name": "python3"
  },
  "language_info": {
   "codemirror_mode": {
    "name": "ipython",
    "version": 3
   },
   "file_extension": ".py",
   "mimetype": "text/x-python",
   "name": "python",
   "nbconvert_exporter": "python",
   "pygments_lexer": "ipython3",
   "version": "3.9.12"
  }
 },
 "nbformat": 4,
 "nbformat_minor": 5
}
