{
  "cells": [
    {
      "cell_type": "code",
      "source": [
        "#For Google Colab\n",
        "from google.colab import drive\n",
        "drive.mount('/content/drive')\n",
        "!cp -r '/content/drive/MyDrive/Final Dataset/' '/content/FinalDataset'\n",
        "!pip install autopep8\n"
      ],
      "metadata": {
        "id": "1cX5E_UJq1Ib",
        "outputId": "398be3ef-f83e-4350-b732-7dc6d26cb543",
        "colab": {
          "base_uri": "https://localhost:8080/"
        }
      },
      "id": "1cX5E_UJq1Ib",
      "execution_count": 2,
      "outputs": [
        {
          "output_type": "stream",
          "name": "stdout",
          "text": [
            "Drive already mounted at /content/drive; to attempt to forcibly remount, call drive.mount(\"/content/drive\", force_remount=True).\n",
            "Looking in indexes: https://pypi.org/simple, https://us-python.pkg.dev/colab-wheels/public/simple/\n",
            "Collecting autopep8\n",
            "  Downloading autopep8-2.0.0-py2.py3-none-any.whl (45 kB)\n",
            "\u001b[K     |████████████████████████████████| 45 kB 2.1 MB/s \n",
            "\u001b[?25hCollecting pycodestyle>=2.9.1\n",
            "  Downloading pycodestyle-2.10.0-py2.py3-none-any.whl (41 kB)\n",
            "\u001b[K     |████████████████████████████████| 41 kB 310 kB/s \n",
            "\u001b[?25hRequirement already satisfied: tomli in /usr/local/lib/python3.8/dist-packages (from autopep8) (2.0.1)\n",
            "Installing collected packages: pycodestyle, autopep8\n",
            "Successfully installed autopep8-2.0.0 pycodestyle-2.10.0\n"
          ]
        }
      ]
    },
    {
      "cell_type": "code",
      "execution_count": null,
      "id": "2ba8b5a7",
      "metadata": {
        "id": "2ba8b5a7",
        "outputId": "39cb25ac-ae9e-4976-fd36-f919aae3013c"
      },
      "outputs": [
        {
          "name": "stdout",
          "output_type": "stream",
          "text": [
            "D:\\PythonTestLarge\\\n"
          ]
        }
      ],
      "source": [
        "\"\"\"Startup\"\"\"\n",
        "%matplotlib inline\n",
        "import os\n",
        "import pandas as pd\n",
        "import matplotlib.pyplot as plt\n",
        "import seaborn as sns\n",
        "from tkinter import Variable\n",
        "import torch\n",
        "import torch.nn as nn\n",
        "import torch.nn.functional as F\n",
        "import numpy as np\n",
        "from keras.preprocessing.text import Tokenizer\n",
        "from keras.utils import pad_sequences\n",
        "import re\n",
        "import numpy as np\n",
        "import pickle\n",
        "from IPython.display import clear_output\n",
        "import time\n",
        "import sys\n",
        "\n",
        "slashForDir = \"/\"\n",
        "def convSlashes(path):\n",
        "    return path.replace(\"/\", slashForDir).replace(\"\\\\\", slashForDir)\n",
        "\n",
        "globalDataSet = pd.DataFrame(columns=['data', 'grade'])\n",
        "\n",
        "\n",
        "pathToDataCollectorDatabase = convSlashes('/content/FinalDataset')\n",
        "\n",
        "print (pathToDataCollectorDatabase)\n",
        "\n",
        "ranSimilarization = False\n",
        "\n",
        "\n",
        "# Print iterations progress\n",
        "def printProgressBar (iteration, total, prefix = '', suffix = '', decimals = 1, length = 100, fill = '█', printEnd = \"\\r\"):\n",
        "    \"\"\"\n",
        "    Call in a loop to create terminal progress bar\n",
        "    @params:\n",
        "        iteration   - Required  : current iteration (Int)\n",
        "        total       - Required  : total iterations (Int)\n",
        "        prefix      - Optional  : prefix string (Str)\n",
        "        suffix      - Optional  : suffix string (Str)\n",
        "        decimals    - Optional  : positive number of decimals in percent complete (Int)\n",
        "        length      - Optional  : character length of bar (Int)\n",
        "        fill        - Optional  : bar fill character (Str)\n",
        "        printEnd    - Optional  : end character (e.g. \"\\r\", \"\\r\\n\") (Str)\n",
        "    \"\"\"\n",
        "    percent = (\"{0:.\" + str(decimals) + \"f}\").format(100 * (iteration / float(total)))\n",
        "    filledLength = int(length * iteration // total)\n",
        "    bar = fill * filledLength + '-' * (length - filledLength)\n",
        "    print(f'\\r{prefix} |{bar}| {percent}% {suffix}', end = printEnd)\n",
        "    # Print New Line on Complete\n",
        "    if iteration == total: \n",
        "        print()\n",
        "        \n",
        "def searchFiles(path, fileformats):\n",
        "    filesToDo = []\n",
        "    for root, dirs, files in os.walk(path):\n",
        "        for file in files:\n",
        "            for fileformat in fileformats:\n",
        "                if file.endswith(fileformat):\n",
        "                    #code to generate a list of paths of files to generate logs for\n",
        "                    filesToDo.append(os.path.join(root, file).split(path)[1])\n",
        "    return filesToDo\n",
        "\n",
        "def searchFileName(path, fileName):\n",
        "    filesToDo = []\n",
        "    for root, dirs, files in os.walk(path):\n",
        "        for file in files:\n",
        "            if file == fileName:\n",
        "                #code to generate a list of paths of files to generate logs for\n",
        "                filesToDo.append(os.path.join(root, file).split(path)[1])\n",
        "    return filesToDo\n",
        "\n",
        "\n",
        "#CODE SIMILARIZER\n",
        "#EDGE CASES NOT ACCOUNTED FOR: Dictinary definitions\n",
        "\n",
        "\n",
        "  \n",
        "\n",
        "# Add this import to use isinstance to check if a value is a string or number\n",
        "from numbers import Number\n",
        "import autopep8\n",
        "\n",
        "# Add this import to use ast.Str and ast.Num to create new string and number nodes\n",
        "import ast\n",
        "\n",
        "\n",
        "# ...\n",
        "\n",
        "skipErrorCorrection = True\n",
        "\n",
        "\n",
        "lengthLimitmb = .05\n",
        "lengthLimitBytes = lengthLimitmb * 1000000\n",
        "enableLengthLimit = True\n",
        "autopep8FixTimeLimit = 10 #seconds\n",
        "\n",
        "def change_names(code):\n",
        "  #get the size of the code in memory\n",
        "  size = sys.getsizeof(code)\n",
        "\n",
        "  if (skipErrorCorrection == True or (enableLengthLimit and size > lengthLimitBytes)):\n",
        "    tree = ast.parse(code)\n",
        "  else:\n",
        "    try:\n",
        "      tree = ast.parse(code)\n",
        "    except:\n",
        "      #start on new thread to be able to time out\n",
        "      code = autopep8.fix_code(code, options={\"max_line_length\": 500, \"aggressive\": 2})\n",
        "      tree = ast.parse(code)\n",
        "    \n",
        "\n",
        "  names = {}\n",
        "\n",
        "  var_count = 1\n",
        "  class_count = 1\n",
        "  funct_count = 1\n",
        "  \n",
        "  count_Limit = 100\n",
        "  #If count_Limit is reached we will loop back to 1  \n",
        "\n",
        "  for node in ast.walk(tree):\n",
        "    if isinstance(node, ast.Assign):\n",
        "      for target in node.targets:\n",
        "        if isinstance(target, ast.Name):\n",
        "          if target.id not in names:\n",
        "            new_name = f\"var {var_count}\"\n",
        "            names[target.id] = new_name\n",
        "            var_count += 1\n",
        "            if (var_count > count_Limit):\n",
        "              var_count = 1\n",
        "          target.id = names[target.id]\n",
        "    elif isinstance(node, ast.Name):\n",
        "      if node.id in names:\n",
        "        node.id = names[node.id]\n",
        "    elif isinstance(node, ast.ClassDef):\n",
        "      if node.name not in names:\n",
        "        new_name = f\"class {class_count}\"\n",
        "        names[node.name] = new_name\n",
        "        class_count += 1\n",
        "        if (class_count > count_Limit):\n",
        "          class_count = 1\n",
        "      node.name = names[node.name]\n",
        "    elif isinstance(node, ast.FunctionDef):\n",
        "      if node.name not in names:\n",
        "        new_name = f\"funct {funct_count}\"\n",
        "        names[node.name] = new_name\n",
        "        funct_count += 1\n",
        "        if (funct_count > count_Limit):\n",
        "          funct_count = 1\n",
        "      node.name = names[node.name]\n",
        "    # Add this block to rename calls to the class methods\n",
        "    elif isinstance(node, ast.Call):\n",
        "      if isinstance(node.func, ast.Attribute) and isinstance(node.func.value, ast.Name) and node.func.value.id in names:\n",
        "        node.func.value.id = names[node.func.value.id]\n",
        "        #node.func.attr = names[node.func.attr]\n",
        "      # Add this block to rename calls to functions defined inside the class\n",
        "      elif isinstance(node.func, ast.Name) and node.func.id in names:\n",
        "        node.func.id = names[node.func.id]\n",
        "    # Add this block to rename attributes in method calls\n",
        "    if isinstance(node, ast.Attribute) and node.attr in names:\n",
        "      node.attr = names[node.attr]\n",
        "    # Add this block to replace string literals\n",
        "    elif isinstance(node, ast.Str):\n",
        "      node.s = \"strLit\"\n",
        "    # Add this block to replace number literals\n",
        "    elif isinstance(node, ast.Num):\n",
        "      node.n = \"numLit\"\n",
        "\n",
        "  new_code = ast.unparse(tree)\n",
        "  \n",
        "  #make all \"\"\"strLit\"\"\" into \"strLit\"\n",
        "  new_code = new_code.replace('\"\"\"strLit\"\"\"', '\"strLit\"')\n",
        "  #make all '''strLit''' into 'strLit'\n",
        "  new_code = new_code.replace(\"'''strLit'''\", \"'strLit'\")\n",
        "  #make all 'strLit' into \"strLit\"\n",
        "  new_code = new_code.replace(\"'strLit'\", '\"strLit\"')\n",
        "  \n",
        "  \n",
        "\n",
        "  return new_code"
      ]
    },
    {
      "cell_type": "code",
      "execution_count": null,
      "id": "85b55034",
      "metadata": {
        "id": "85b55034",
        "outputId": "6061dc36-4448-409c-b402-82dca6c4e156"
      },
      "outputs": [
        {
          "name": "stdout",
          "output_type": "stream",
          "text": [
            "Progress: |█████████████████████████████████████████████████-| 99.9% Complete\r"
          ]
        }
      ],
      "source": [
        "#Generate a list of files to index\n",
        "#filesToIndex = searchFileName(pathToDataCollectorDatabase,\"gitinfo.txt\")\n",
        "#Instead of searching for files, get a 1 level list of directories\n",
        "filesToIndex = [name for name in os.listdir(pathToDataCollectorDatabase) if os.path.isdir(os.path.join(pathToDataCollectorDatabase, name))]\n",
        "#Create a dataframe that contains the data of the gitinfo.txt files\n",
        "import json\n",
        "import warnings\n",
        "warnings.filterwarnings('ignore')\n",
        "i=0\n",
        "#example of the gitinfo.txt file    {\"id\": 3452233, \"name\": \"hjlebbink/asm-dude\", \"isFork\": false, \"commits\": 939, \"branches\": 8, \"defaultBranch\": \"master\", \"releases\": 39, \"contributors\": 10, \"license\": \"MIT License\", \"watchers\": 762, \"stargazers\": 3906, \"forks\": 76, \"size\": 82262, \"createdAt\": \"2016-02-19 03:43:23\", \"pushedAt\": \"2022-01-06 01:33:34\", \"updatedAt\": \"2022-01-08 08:02:49\", \"homepage\": \"\", \"mainLanguage\": \"Python\", \"totalIssues\": 118, \"openIssues\": 32, \"totalPullRequests\": 13, \"openPullRequests\": 1, \"lastCommit\": \"2021-12-07 08:47:07\", \"lastCommitSHA\": \"1e1e3dc2364e8ed549ba404868b6473ba435b25c\", \"hasWiki\": true, \"isArchived\": false, \"languages\": {\"Python\": 4274689, \"C#\": 2554588, \"C\": 1311140, \"C++\": 644077, \"Assembly\": 164163, \"Shell\": 2764, \"Go\": 1779, \"Batchfile\": 410}, \"labels\": [\"bug\", \"duplicate\", \"enhancement\", \"help wanted\", \"invalid\", \"question\", \"wontfix\"]}\n",
        "df = pd.DataFrame(columns=['id', 'name', 'isFork', 'commits', 'branches', 'defaultBranch', 'releases', 'contributors', 'license', 'watchers', 'stargazers', 'forks', 'size', 'createdAt', 'pushedAt', 'updatedAt', 'homepage', 'mainLanguage', 'totalIssues', 'openIssues', 'totalPullRequests', 'openPullRequests', 'lastCommit', 'lastCommitSHA', 'hasWiki', 'isArchived', 'languages', 'labels' , 'path'])\n",
        "for folder in filesToIndex:\n",
        "    #print progress bar\n",
        "    printProgressBar(i, len(filesToIndex), prefix = 'Progress:', suffix = 'Complete', length = 50)\n",
        "    try:\n",
        "        with open(pathToDataCollectorDatabase + slashForDir + folder + slashForDir + \"gitinfo.txt\", 'r') as f:\n",
        "            d = json.load(f)\n",
        "            f.close()\n",
        "            dftemp = pd.json_normalize(d)\n",
        "            dftemp['path'] = folder\n",
        "            df = pd.concat([df, dftemp], ignore_index=True)\n",
        "    except:\n",
        "        print(\"Error with folder: \" + folder)\n",
        "    i = i+1\n"
      ]
    },
    {
      "cell_type": "code",
      "execution_count": null,
      "id": "c9251a53",
      "metadata": {
        "id": "c9251a53"
      },
      "outputs": [],
      "source": [
        "#save the index dataframe\n",
        "df.to_csv(pathToDataCollectorDatabase + 'gitinfo.csv', index=False)"
      ]
    },
    {
      "cell_type": "code",
      "execution_count": null,
      "id": "e46097d3",
      "metadata": {
        "id": "e46097d3"
      },
      "outputs": [],
      "source": [
        "#load the index dataframe\n",
        "import json\n",
        "import warnings\n",
        "df = pd.read_csv(pathToDataCollectorDatabase + slashForDir + 'gitinfo.csv')"
      ]
    },
    {
      "cell_type": "code",
      "execution_count": null,
      "id": "32fcd2ec",
      "metadata": {
        "id": "32fcd2ec"
      },
      "outputs": [],
      "source": [
        "print (df)"
      ]
    },
    {
      "cell_type": "code",
      "execution_count": null,
      "id": "344df8ef",
      "metadata": {
        "id": "344df8ef",
        "outputId": "83590341-749e-45bd-c9bb-30cd5a8918a0"
      },
      "outputs": [
        {
          "name": "stdout",
          "output_type": "stream",
          "text": [
            "167209ss: |█████████████████████████████████████████████████-| 100.0% Complete\n"
          ]
        }
      ],
      "source": [
        "#Grading V2\n",
        "#Only works with \\\\ as slash for some reason, Fix later.\n",
        "import numpy as np\n",
        "import requests\n",
        "\n",
        "fileformatToUse = \".txt\"\n",
        "useGITAPI = False\n",
        "addRepoToData = True\n",
        "onlyAddIfSimilized = True\n",
        "\n",
        "\n",
        "ranSimilarization = onlyAddIfSimilized\n",
        "\n",
        "\n",
        "#commit comment keywords for code grade adjustment\n",
        "positiveKeyWords = ['fix', 'resolve', 'resolve', 'resolved', 'resolves', 'resolving', 'close', 'closed', 'closes', 'closing', 'fixes', 'fixed', 'fixing', 'patch', 'patched', 'patching', 'update', 'updated', 'updating', 'upgrade', 'upgraded', 'upgrading', 'improve', 'improved', 'improving', 'improvement', 'improvements', 'improves', 'improving', 'enhance', 'enhanced', 'enhances', 'enhancing', 'enhancement', 'enhancements']\n",
        "positiveKeyWordsBigImpact = ['Signed-off', 'Merge', 'Merged']\n",
        "positiveKeyWordsValue = 1\n",
        "positiveKeyWordsBigImpactValue = 5\n",
        "negitiveKeyWords = ['todo','tofix','bugged','fix me','fix-me']\n",
        "negitiveKeyWordsValue = -1\n",
        "\n",
        "prevCommitScoreAdjustmentNegitiveKeyWords = ['revert','reverted','reverting','reverts']\n",
        "prevCommitScoreAdjustmentNegitiveKeyWordsValue = -10\n",
        "\n",
        "\n",
        "\n",
        "import numpy as np\n",
        "filesToIndex = df['path'].tolist()\n",
        "#Create an array of strings of folders which contain a 0.txt file. Kinda slow using searchFileName, but only takes about 10 mins with 2000 repos\n",
        "foldersWithCommits = []\n",
        "for file in filesToIndex:\n",
        "    for filelvl2 in searchFileName(pathToDataCollectorDatabase+file, \"0.txt\"):\n",
        "        #print(pathToDataCollectorDatabase+file+filelvl2.removesuffix('0.txt'))\n",
        "        if (searchFiles(pathToDataCollectorDatabase+file+filelvl2.split('0.txt')[0], fileformatToUse) != []):\n",
        "            foldersWithCommits.append(file+filelvl2.split('0.txt')[0])\n",
        "   \n",
        "\n",
        "\n",
        "\n",
        "\n",
        "\n",
        "#get the total number of commits for each folder\n",
        "totalCommits = []\n",
        "for folder in foldersWithCommits:\n",
        "    totalCommits.append(len(searchFiles(pathToDataCollectorDatabase+folder, ['.txt'])))\n",
        "\n",
        "dataSet1 = pd.DataFrame(columns=['data', 'grade'])\n",
        "if (addRepoToData):\n",
        "    dataSet1 = pd.DataFrame(columns=['data', 'grade', 'repo'])\n",
        "repositoryName = ''\n",
        "prevRepositoryName = ''\n",
        "repoInfo = ''\n",
        "\n",
        "index = 0\n",
        "for i in foldersWithCommits:\n",
        "    printProgressBar(index, len(foldersWithCommits), prefix = 'Progress:', suffix = 'Complete', length = 50)\n",
        "    index = index + 1\n",
        "    authorsEmail = []\n",
        "    authors = []\n",
        "    repositoryName = i.split(slashForDir)[0]\n",
        "\n",
        "    if (repositoryName != prevRepositoryName):\n",
        "        data = open(pathToDataCollectorDatabase+ slashForDir + repositoryName+ slashForDir + 'gitinfo.txt', 'r', encoding=\"utf8\")\n",
        "        repoInfo = json.loads(data.read())\n",
        "        data.close()\n",
        "    repoBaseScore = 0\n",
        "    #subtract the dates from creation date and last updated date to get an age score\n",
        "    import datetime\n",
        "    #'%Y-%m-%d T%H:%M:%SZ'\n",
        "    repoAge = (datetime.datetime.strptime(repoInfo['updatedAt'], '%Y-%m-%d %H:%M:%S') - datetime.datetime.strptime(repoInfo['createdAt'], '%Y-%m-%d %H:%M:%S'))\n",
        "    repoAge = repoAge.days\n",
        "    #The older the repo the higher the score\n",
        "    ageScore = 200 - (repoAge/365)*100\n",
        "    #add a score based on the number of contributors\n",
        "    contributorRepoScore = repoInfo['contributors']*5\n",
        "    #add a score based on the number of stars\n",
        "    starScore = repoInfo['stargazers'] * 10\n",
        "    #add a score based on the number of forks\n",
        "    forkScore = repoInfo['forks'] * 10\n",
        "    #add a score based on the number of watchers\n",
        "    watchScore = repoInfo['watchers'] * 10\n",
        "    #add a score based on the number of issues\n",
        "    repoBaseScore = repoBaseScore + (repoInfo['totalIssues'] * 10)\n",
        "    totIssues = repoInfo['totalIssues']\n",
        "    opIssues = repoInfo['openIssues']\n",
        "    if (opIssues != 0):\n",
        "        issuesScore = 90 - (totIssues/opIssues)*100\n",
        "    else:\n",
        "        issuesScore = -1\n",
        "\n",
        "\n",
        "    #get the top 2 scores\n",
        "    top2Scores = sorted([ageScore, contributorRepoScore, starScore, forkScore, watchScore, issuesScore], reverse=True)[:2]\n",
        "    #add the top 2 scores together\n",
        "    repoBaseScore = repoBaseScore + top2Scores[0] + top2Scores[1]\n",
        "    repoBaseScore = repoBaseScore/50\n",
        "    if (issuesScore == -1):\n",
        "        repoBaseScore = repoBaseScore -15\n",
        "\n",
        "\n",
        "\n",
        "    \n",
        "    numberOfCommits = len(searchFiles(pathToDataCollectorDatabase+i, ['.txt']))\n",
        "\n",
        "    #prevContributors = []      Maybe for future use\n",
        "    #prevContributorsAmount = []\n",
        "\n",
        "    for j in range(len(searchFiles(pathToDataCollectorDatabase+i, ['.txt']))):\n",
        "\n",
        "        authorsEmailCache = authorsEmail.copy()\n",
        "        skip = False\n",
        "        \n",
        "        try :\n",
        "            data = open(pathToDataCollectorDatabase+i+str(j)+fileformatToUse, 'r', encoding=\"utf8\")\n",
        "            commitdata = data.read()\n",
        "            data.close()\n",
        "            if (onlyAddIfSimilized):\n",
        "                commitdata = change_names(commitdata)\n",
        "            data1 = open(pathToDataCollectorDatabase+i+str(j)+'.json', 'r', encoding=\"utf8\")\n",
        "            commitinfo = data1.read()\n",
        "            data1.close()\n",
        "        except:\n",
        "            #print(\"Error opening file: \"+pathToDataCollectorDatabase+i+str(j)+fileformatToUse)\n",
        "            commitdata = ''\n",
        "            commitinfo = ''\n",
        "            continue\n",
        "\n",
        "        #get the number of contributors\n",
        "        #error checking\n",
        "        try:\n",
        "            contributors = commitinfo.split('author\\':')[1]\n",
        "            contributors = contributors.split('\\'date\\':')[0]\n",
        "            contributorscount = contributors.count(\"<\")\n",
        "        except:\n",
        "            break\n",
        "            print(\"error file = \" + i+str(j)+\".json\")\n",
        "\n",
        "        if (commitdata == ''):\n",
        "            break\n",
        "        contributorScore = contributorscount -1\n",
        "\n",
        "        #find KeyWords in the commit message\n",
        "        commitmessage = commitinfo.split('\\'summary\\':')[1]\n",
        "        commitmessage = commitmessage.replace(', \\'description\\':', ' ')\n",
        "\n",
        "        keyWordAdjustment = 0\n",
        "        prevCommitAdjustment = 0\n",
        "        #check the commit message for the words in positiveKeyWords\n",
        "        for word in positiveKeyWords:\n",
        "            if (commitmessage.find(word) != -1):\n",
        "                keyWordAdjustment = keyWordAdjustment + positiveKeyWordsValue\n",
        "        \n",
        "        #check the commit message for the words in positiveKeyWordsBigImpact\n",
        "        for word in positiveKeyWordsBigImpact:\n",
        "            if (commitmessage.find(word) != -1):\n",
        "                keyWordAdjustment = keyWordAdjustment + positiveKeyWordsBigImpactValue\n",
        "\n",
        "        #check the commit message for the words in negitiveKeyWords\n",
        "        for word in negitiveKeyWords:\n",
        "            if (commitmessage.find(word) != -1):\n",
        "                keyWordAdjustment = keyWordAdjustment + negitiveKeyWordsValue\n",
        "\n",
        "        #check the commit message for the words in prevCommitScoreAdjustmentNegitiveKeyWords\n",
        "        for word in prevCommitScoreAdjustmentNegitiveKeyWords:\n",
        "            if (commitmessage.find(word) != -1):\n",
        "                prevCommitAdjustment = prevCommitAdjustment + prevCommitScoreAdjustmentNegitiveKeyWordsValue\n",
        "        \"\"\"Impliment this later\"\"\"\n",
        "        #if (prevCommitAdjustment != 0):\n",
        "            #dataSet1['grade'].last = dataSet1['grade'].last + prevCommitAdjustment\n",
        "\n",
        "        topBaseScoreAddition = 50\n",
        "        topContributorScoreAddition = 15\n",
        "        topKeyWordScoreAddition = 15\n",
        "        topCommitNumbScoreAddition = 20\n",
        "\n",
        "        if (keyWordAdjustment > 5):\n",
        "            KeyWordAdjustment = 5\n",
        "        if (keyWordAdjustment < -5):\n",
        "            KeyWordAdjustment = -5\n",
        "\n",
        "        if (contributorscount > 3):\n",
        "            contributorscount = 3\n",
        "\n",
        "        finalKeywordScore = (keyWordAdjustment/5)*topKeyWordScoreAddition\n",
        "        finalContributorScore = ((contributorScore/3)*topContributorScoreAddition)\n",
        "        finalCommitScore = (topCommitNumbScoreAddition * (j / numberOfCommits))\n",
        "\n",
        "        if(repoBaseScore > topBaseScoreAddition):\n",
        "            repoBaseScore = topBaseScoreAddition\n",
        "\n",
        "\n",
        "        commitGrade = np.clip(repoBaseScore + finalKeywordScore + finalContributorScore + finalCommitScore, 0,100)\n",
        "        \"\"\"if (commitGrade == 55):\n",
        "            print(repoBaseScore)\n",
        "            print(finalKeywordScore)\n",
        "            print(finalContributorScore)\n",
        "            print(finalCommitScore)\"\"\"\n",
        "        dataSet1temp = pd.DataFrame({'data': [commitdata], 'grade': [commitGrade]})\n",
        "        if (addRepoToData):\n",
        "            dataSet1temp['repo'] = i.split('parsed')[0]\n",
        "        dataSet1 = pd.concat([dataSet1, dataSet1temp], ignore_index=True)\n",
        "\n",
        "        \n",
        "\n",
        "        #calculate Grade\n",
        "        #create a minimum grade based off of stats from the github repo\n",
        "\n",
        "        #get the authors info if using the GITHUB API. Maybe make into a seperate application that can then be used to generate a json file used here due to the rate limit of the API\n",
        "        if (useGITAPI == True):\n",
        "            authorsArray = contributors.split('>')\n",
        "            for author in authorsArray:\n",
        "                if (author.find('<') != -1):\n",
        "                    authorsEmail.append(author[author.find('<')+1:])\n",
        "            #use https://api.github.com/search/users?q= to get a username from an email address\n",
        "            for author in authorsEmail:\n",
        "                print(authorsEmailCache)\n",
        "                if (author.find('@') != -1 and not (author in authorsEmailCache)):\n",
        "                    print (author + 'test')\n",
        "                    gitRequest = requests.get('https://api.github.com/search/users?q='+author).json()\n",
        "                    if (gitRequest['total_count'] > 0):\n",
        "                        authors.append(gitRequest['items'][0]['login'])\n",
        "                        print(\"shouldn't show up\")\n",
        "\n",
        "                    #print (requests.get('https://api.github.com/search/users?q='+author).json()['items'][0]['login'])\n",
        "\n",
        "    \n",
        "\n",
        "dataSet1['grade'].value_counts()\n",
        "\n",
        "#print the size of the dataset\n",
        "print(len(dataSet1))\n"
      ]
    },
    {
      "cell_type": "code",
      "execution_count": null,
      "id": "68528694",
      "metadata": {
        "id": "68528694"
      },
      "outputs": [],
      "source": [
        "#save the grading databse to the database folder\n",
        "dataSet1.to_csv(pathToDataCollectorDatabase + slashForDir + 'dataSet1GradeSimilarized.csv', index=False)"
      ]
    },
    {
      "cell_type": "code",
      "execution_count": null,
      "id": "4a395909",
      "metadata": {
        "id": "4a395909"
      },
      "outputs": [],
      "source": [
        "#load the grading databse from the database folder\n",
        "dataSet1 = pd.read_csv(pathToDataCollectorDatabase + slashForDir + 'dataSet1GradeSimilarized.csv')"
      ]
    },
    {
      "cell_type": "code",
      "execution_count": null,
      "id": "6b67d704",
      "metadata": {
        "id": "6b67d704",
        "outputId": "61c0558a-147c-486e-dba2-f3b86396729d"
      },
      "outputs": [
        {
          "data": {
            "image/png": "[encoded data removed]",
            "text/plain": [
              "<Figure size 640x480 with 1 Axes>"
            ]
          },
          "metadata": {},
          "output_type": "display_data"
        }
      ],
      "source": [
        "#create a chart of the grades\n",
        "graph = plt.hist(dataSet1['grade'], bins=20, range=(0, 100))\n",
        "plt.xticks([0, 5, 10, 15, 20, 25, 30, 35, 40, 45, 50, 55, 60, 65, 70, 75, 80, 85, 90, 95, 100])\n",
        "plt.title(\"Grade Distribution For a Dataset of \" + str(len(dataSet1)), fontsize=20)\n",
        "plt.xlabel(\"Grade Range\", fontsize=20)\n",
        "plt.ylabel(\"Number of Commits\", fontsize=20)\n",
        "plt.show()\n",
        "\n",
        "\n",
        "\n"
      ]
    },
    {
      "cell_type": "code",
      "execution_count": null,
      "id": "6451cba0",
      "metadata": {
        "id": "6451cba0"
      },
      "outputs": [],
      "source": [
        "#create a copy of the dataset\n",
        "dataSet1temp = dataSet1.copy()"
      ]
    },
    {
      "cell_type": "code",
      "execution_count": null,
      "id": "e7a03496",
      "metadata": {
        "id": "e7a03496",
        "outputId": "c3f8e938-8348-43d8-f929-488d54820c99"
      },
      "outputs": [
        {
          "data": {
            "image/png": "[encoded data removed]",
            "text/plain": [
              "<Figure size 640x480 with 1 Axes>"
            ]
          },
          "metadata": {},
          "output_type": "display_data"
        }
      ],
      "source": [
        "#create a chart comparing dataset1 with dataSet1temp\n",
        "plt.hist(dataSet1temp['grade'], bins=20, range=(0, 100))\n",
        "plt.hist(dataSet1['grade'], bins=20, range=(0, 100))\n",
        "plt.legend(['Un-Reduced', 'Reduced'])\n",
        "plt.xticks([0, 5, 10, 15, 20, 25, 30, 35, 40, 45, 50, 55, 60, 65, 70, 75, 80, 85, 90, 95, 100])\n",
        "plt.title(\"Grade Distribution For a Dataset\", fontsize=20)\n",
        "plt.xlabel(\"Grade Range\", fontsize=20)\n",
        "plt.ylabel(\"Number of Commits\", fontsize=20)\n",
        "plt.show()\n",
        "\n"
      ]
    },
    {
      "cell_type": "code",
      "execution_count": null,
      "id": "73aae171",
      "metadata": {
        "id": "73aae171",
        "outputId": "b020b1cf-137d-46d2-e258-13c979a56c4a"
      },
      "outputs": [
        {
          "name": "stdout",
          "output_type": "stream",
          "text": [
            "Removing data at index 142400\n",
            "\n",
            "\n",
            "Removed similar data, dataset size = 142402\n",
            "Memory used by dataSet1: 736392601\n",
            "Memory used by dataSet1: 653905881██████████████████████████-| 100.0% Complete\n",
            "Memory Delta: -82486720\n",
            "                                                     data      grade  \\\n",
            "0       import requests\\nimport yaml\\nfrom glob import...  22.000000   \n",
            "1       import json\\nimport logging\\nimport os.path\\ni...  22.000000   \n",
            "2       import os\\nimport sys\\nimport yaml\\nfrom foia_...  22.000000   \n",
            "3       import os\\nimport sys\\nimport yaml\\nfrom foia_...  32.000000   \n",
            "4       import sys\\nimport os\\nimport glob\\nimport uti...  22.000000   \n",
            "...                                                   ...        ...   \n",
            "142397  import pyfrc.config\\nimport pytest\\nfrom netwo...  22.714286   \n",
            "142398  from networktables.util import ChooserControl\\...  34.142857   \n",
            "142399  import os\\nfrom os.path import dirname, exists...  18.428571   \n",
            "142400  import os\\nfrom os.path import dirname, exists...  31.285714   \n",
            "142401  import os\\nfrom os.path import dirname, exists...  32.714286   \n",
            "\n",
            "                             repo  \n",
            "0                      2015-foia\\  \n",
            "1                      2015-foia\\  \n",
            "2                      2015-foia\\  \n",
            "3                      2015-foia\\  \n",
            "4                      2015-foia\\  \n",
            "...                           ...  \n",
            "142397  robotpy-wpilib-utilities\\  \n",
            "142398  robotpy-wpilib-utilities\\  \n",
            "142399  robotpy-wpilib-utilities\\  \n",
            "142400  robotpy-wpilib-utilities\\  \n",
            "142401  robotpy-wpilib-utilities\\  \n",
            "\n",
            "[142402 rows x 3 columns]\n"
          ]
        }
      ],
      "source": [
        "import sys\n",
        "import re\n",
        "import difflib\n",
        "\n",
        "dataSet1 = dataSet1.reset_index(drop=True)\n",
        "\n",
        "dataSetSimilarReduction = True\n",
        "dataSetSimilarReductionSizeDiffrenceSkip = 50 #Skip if the difference in size (in characters) is greater than this number, use since diff is slow\n",
        "dataSetSimilarReductionRatio = .90 #The ratio of the diff to the last commit message to be considered similar\n",
        "dataSetSimilarReductionDisableSlow = False #Disable the slow diff check, use if you are okay with false positives for a much faster check.\n",
        "\n",
        "dumbDataCleaning = not ranSimilarization\n",
        "dumbDataCleaning = False\n",
        "\n",
        "\n",
        "#Regex used in the basic data cleaning\n",
        "regexBlankLineMostly = r\"(^\\s{1,}$)\"\n",
        "regexBlankLineFinish = r\"(^\\n{1,})\"\n",
        "\n",
        "def stringProcessing(string, noSimilarization = False):\n",
        "    if (noSimilarization):\n",
        "        string = string.replace(\"\\\"\\\"\\\"\" , \"\\\"\")\n",
        "        string = string.replace(\"\\'\\'\\'\" , \"\\\"\")\n",
        "        string = string.replace(\"\\\\'\" , \"\")\n",
        "        string = string.replace('\\\\\"' , \"\")\n",
        "        string = re.sub(\"('|\\\")[\\x1f-\\x7e]{1,}?('|\\\")\", \" \\\"sGH\\\"\", string)\n",
        "        string = re.sub(\"#.*\", \"\", string)\n",
        "    string = string.replace('    ', '\\t')\n",
        "    string = re.sub(regexBlankLineMostly, '', string, 0, re.MULTILINE)\n",
        "    string = re.sub(regexBlankLineFinish, '', string, 0, re.MULTILINE)\n",
        "    return string\n",
        "\n",
        "#Similar data reduction\n",
        "if (dataSetSimilarReduction == True):\n",
        "    #BasicCleanedValuesRepo = []\n",
        "    print(\"Removing similar data, dataset size = \" + str(len(dataSet1)))\n",
        "    for i in range(len(dataSet1)):\n",
        "        if (i < len(dataSet1)):\n",
        "            if (i != 0 and i != len(dataSet1)-1):\n",
        "                printProgressBar(i, len(dataSet1), prefix = 'Progress:', suffix = 'Complete', length = 200)\n",
        "                if abs(dataSet1['grade'][i] - dataSet1['grade'][i-1]) < 3 and abs(len(dataSet1['data'][i]) - len(dataSet1['data'][i-1])) < dataSetSimilarReductionSizeDiffrenceSkip:\n",
        "                    #Use difflib to compare the data\n",
        "                    diff = difflib.SequenceMatcher(None, dataSet1['data'][i], dataSet1['data'][i-1])\n",
        "                    #see how many lines are different\n",
        "                    #print ratio using progress bar\n",
        "                    if (diff.quick_ratio() > dataSetSimilarReductionRatio):\n",
        "                        if (diff.ratio() > dataSetSimilarReductionRatio or dataSetSimilarReductionDisableSlow):\n",
        "                            clear_output(wait=True)\n",
        "                            print (\"Removing data at index \" + str(i))\n",
        "                            print ('\\n')\n",
        "                            #BasicCleanedValuesRepo.append(dataSet1['repo'][i])\n",
        "                            dataSet1 = dataSet1.drop([i])\n",
        "                            dataSet1 = dataSet1.reset_index(drop=True)\n",
        "                            i = i - 2\n",
        "                    del(diff)\n",
        "                \n",
        "                \n",
        "    #reset the keys of the dataframe\n",
        "    \n",
        "    print(\"Removed similar data, dataset size = \" + str(len(dataSet1)))\n",
        "\n",
        "\n",
        "#Basic data cleaning, dumb version for if we couldn't do code similarization\n",
        "print(\"Memory used by dataSet1: \" + str(sys.getsizeof(dataSet1)))\n",
        "memUsage = sys.getsizeof(dataSet1)\n",
        "for j in range(len(dataSet1)):\n",
        "    printProgressBar(j, len(dataSet1), prefix = 'Progress:', suffix = 'Complete', length = 50)\n",
        "    #use regex to replace all new lines only with tabs to newlines without tabs eventually\n",
        "    dataSet1.loc[j, 'data'] = stringProcessing(dataSet1['data'][j], dumbDataCleaning)\n",
        "print(\"Memory used by dataSet1: \" + str(sys.getsizeof(dataSet1)))\n",
        "print(\"Memory Delta: \" + str(sys.getsizeof(dataSet1) - memUsage))\n",
        "\n",
        "\n",
        "\n",
        "print(dataSet1)\n"
      ]
    },
    {
      "cell_type": "code",
      "execution_count": null,
      "id": "4eb2fc68",
      "metadata": {
        "id": "4eb2fc68",
        "outputId": "332991d1-6c04-4048-e211-5dfcd5fe13dd"
      },
      "outputs": [
        {
          "name": "stdout",
          "output_type": "stream",
          "text": [
            "Progress Padding Symbols: |██████████████████████████████████████████████████| 100.0% Complete\n"
          ]
        }
      ],
      "source": [
        "\n",
        "\n",
        "padNow = True\n",
        "\n",
        "to_pad = ['\\n', '\\t', '\\r', '(', ')', '[', ']', '{', '}', '<', '>', '!', '?', ',', '.', ':', ';', '`', '~', '@', '#', '$', '%', '^', '&', '*', '=', '+', '/', '\\\\', '|']\n",
        "\n",
        "def stringPadding(dataSet):\n",
        "    #tokenize dataSet\n",
        "    #dataSet = padSymbols(dataSet)\n",
        "    \n",
        "    #get rid of excess \\n\n",
        "    #pad to_pad segments with spaces in dataSet\n",
        "    if (type(dataSet) == str):\n",
        "        for i in range(len(to_pad)):\n",
        "            dataSet = dataSet.replace(to_pad[i], ' ' + to_pad[i] + ' ')\n",
        "        return dataSet\n",
        "\n",
        "if (padNow == True):\n",
        "    for i in to_pad: \n",
        "        printProgressBar(to_pad.index(i), len(to_pad) - 1, prefix = 'Progress Padding Symbols:', suffix = 'Complete', length = 50)\n",
        "        for j in range(len(dataSet1)):\n",
        "            dataSet1['data'][j] = dataSet1['data'][j].replace(i, ' '+i+' ') \n"
      ]
    },
    {
      "cell_type": "code",
      "execution_count": null,
      "id": "960980ef",
      "metadata": {
        "id": "960980ef"
      },
      "outputs": [],
      "source": [
        "#save the padded and processed data for testing purposes\n",
        "dataSet1.to_csv(pathToDataCollectorDatabase + slashForDir + 'dataSet1Padded.csv', index=True)"
      ]
    },
    {
      "cell_type": "code",
      "execution_count": null,
      "id": "b02b03f2",
      "metadata": {
        "id": "b02b03f2"
      },
      "outputs": [],
      "source": [
        "#load the padded and processed data for testing purposes\n",
        "\n",
        "dataSet1 = pd.read_csv(pathToDataCollectorDatabase + slashForDir + 'dataSet1Padded.csv')\n"
      ]
    },
    {
      "cell_type": "code",
      "execution_count": null,
      "id": "4d7e83dd",
      "metadata": {
        "id": "4d7e83dd",
        "outputId": "f11fbfd3-f607-416c-a286-f96d51a86c6b"
      },
      "outputs": [
        {
          "name": "stdout",
          "output_type": "stream",
          "text": [
            "['2015-foia\\\\' '2018.1-tropicalhazards-bi\\\\' '2018.2-lino\\\\' ...\n",
            " 'robotframework-whitelibrary\\\\' 'roboticslanguage\\\\'\n",
            " 'robotpy-wpilib-utilities\\\\']\n"
          ]
        }
      ],
      "source": [
        "#print how many diffrent repos are represented in dataSet1 using the repo column\n",
        "print(dataSet1['repo'].unique())"
      ]
    },
    {
      "cell_type": "code",
      "execution_count": null,
      "id": "33d5f779",
      "metadata": {
        "id": "33d5f779",
        "outputId": "1af897f3-3fe9-42a0-8cd0-1889f9c07917"
      },
      "outputs": [
        {
          "name": "stdout",
          "output_type": "stream",
          "text": [
            "                                                     data      grade  \\\n",
            "0       import requests \\n import yaml \\n from glob im...  22.000000   \n",
            "1       import json \\n import logging \\n import os . p...  22.000000   \n",
            "2       import os \\n import sys \\n import yaml \\n from...  22.000000   \n",
            "3       import os \\n import sys \\n import yaml \\n from...  32.000000   \n",
            "4       import sys \\n import os \\n import glob \\n impo...  22.000000   \n",
            "...                                                   ...        ...   \n",
            "142397  import pyfrc . config \\n import pytest \\n from...  22.714286   \n",
            "142398  from networktables . util import ChooserContro...  34.142857   \n",
            "142399  import os \\n from os . path import dirname ,  ...  18.428571   \n",
            "142400  import os \\n from os . path import dirname ,  ...  31.285714   \n",
            "142401  import os \\n from os . path import dirname ,  ...  32.714286   \n",
            "\n",
            "                             repo  \n",
            "0                      2015-foia\\  \n",
            "1                      2015-foia\\  \n",
            "2                      2015-foia\\  \n",
            "3                      2015-foia\\  \n",
            "4                      2015-foia\\  \n",
            "...                           ...  \n",
            "142397  robotpy-wpilib-utilities\\  \n",
            "142398  robotpy-wpilib-utilities\\  \n",
            "142399  robotpy-wpilib-utilities\\  \n",
            "142400  robotpy-wpilib-utilities\\  \n",
            "142401  robotpy-wpilib-utilities\\  \n",
            "\n",
            "[142402 rows x 3 columns]\n",
            "Memory used by dataSet1: 0.886622917 gb\n"
          ]
        }
      ],
      "source": [
        "print(dataSet1)\n",
        "\n",
        "#print the size of the data set in ram in gb\n",
        "memUsage = sys.getsizeof(dataSet1)\n",
        "print(\"Memory used by dataSet1: \" + str(memUsage / 1000000000) + \" gb\")\n",
        "#tokenize the data"
      ]
    },
    {
      "cell_type": "code",
      "execution_count": null,
      "id": "cf59f6ed",
      "metadata": {
        "id": "cf59f6ed"
      },
      "outputs": [],
      "source": [
        "#delete the data column\n",
        "\n",
        "dataSet1 = dataSet1.drop(['data'], axis=1)"
      ]
    },
    {
      "cell_type": "code",
      "execution_count": null,
      "id": "e0271519",
      "metadata": {
        "id": "e0271519",
        "outputId": "48ce60f5-8d87-4670-a7df-c365cf4d0386"
      },
      "outputs": [
        {
          "name": "stdout",
          "output_type": "stream",
          "text": [
            "Longest Sequence:  4292139\n",
            "Mean Sequence Length:  1379.7785073243354\n",
            "Median Sequence Length:  536.0\n",
            "Standard Deviation of Sequence Length:  15747.724177614458\n",
            "Temp Max Length:  2069.667760986503\n",
            "Mem Usage1.0979278342136702\n"
          ]
        }
      ],
      "source": [
        "MemsizeMaxGB = 30\n",
        "maxWords = 1500\n",
        "maxLen = 9000\n",
        "tokenizer = Tokenizer(filters='' , split=' ', lower=True, num_words=maxWords)\n",
        "\n",
        "MemsizeMax = MemsizeMaxGB * 1024 * 1024 * 1024\n",
        "tokenizer.fit_on_texts(dataSet1[dataSet1.columns[0]]) \n",
        "X = tokenizer.texts_to_sequences(dataSet1[dataSet1.columns[0]])\n",
        "#Check the length of the longest sequence\n",
        "dataLength = []\n",
        "#delete the data to save memory\n",
        "\n",
        "\n",
        "for i in range(len(X)):\n",
        "    dataLength.append(len(X[i]))\n",
        "\n",
        "print(\"Longest Sequence: \", max(dataLength))\n",
        "#get statistics on the length of the sequences\n",
        "print(\"Mean Sequence Length: \", np.mean(dataLength))\n",
        "print(\"Median Sequence Length: \", np.median(dataLength))\n",
        "print(\"Standard Deviation of Sequence Length: \", np.std(dataLength))\n",
        "\n",
        "tempMaxLength = np.median(dataLength) + 2 * np.std(dataLength)\n",
        "tempMaxLength = np.mean(dataLength) + .5 * np.mean(dataLength)\n",
        "print (\"Temp Max Length: \", tempMaxLength)\n",
        "\n",
        "\n",
        "#check max mem usage for an int32 array\n",
        "if (tempMaxLength * 4 * len(dataSet1) > MemsizeMax):\n",
        "    print(\"Max Length too large for memory, reducing to \", int(MemsizeMax / 4 / len(dataSet1)))\n",
        "    tempMaxLength = int(MemsizeMax / 4 / len(dataSet1))\n",
        "    \n",
        "print(\"Mem Usage\" + str(tempMaxLength * 4 * len(dataSet1) / 1024 / 1024 / 1024))\n",
        "\n",
        "\"\"\"\n",
        "if tempMaxLength < maxLen:\n",
        "    tempMaxLength = maxLen\n",
        "    print(\"Max Length: \", tempMaxLength)\n",
        "\"\"\"\n",
        "maxLen = int(tempMaxLength)"
      ]
    },
    {
      "cell_type": "code",
      "execution_count": null,
      "id": "d979ce7f",
      "metadata": {
        "id": "d979ce7f",
        "outputId": "8a3d313f-803e-48e0-886c-95e2ac04b8ee"
      },
      "outputs": [
        {
          "name": "stdout",
          "output_type": "stream",
          "text": [
            "Max Length:  2069\n",
            "Memory Usage:  1.097573596984148\n"
          ]
        }
      ],
      "source": [
        "print(\"Max Length: \", maxLen)\n",
        "print(\"Memory Usage: \", maxLen * 4 * len(dataSet1) / 1024 / 1024 / 1024)"
      ]
    },
    {
      "cell_type": "code",
      "execution_count": null,
      "id": "144036fe",
      "metadata": {
        "id": "144036fe"
      },
      "outputs": [],
      "source": [
        "X = pad_sequences(X, maxlen=maxLen)"
      ]
    },
    {
      "cell_type": "code",
      "execution_count": null,
      "id": "6d32b897",
      "metadata": {
        "id": "6d32b897"
      },
      "outputs": [],
      "source": [
        "#Save X for debugging purposes\n",
        "np.save(pathToDataCollectorDatabase + slashForDir + 'X.npy', X)\n",
        "\n",
        "#save tokenizer for later use\n",
        "import pickle\n",
        "with open(pathToDataCollectorDatabase + slashForDir + 'tokenizer.pickle', 'wb') as handle:\n",
        "    pickle.dump(tokenizer, handle, protocol=pickle.HIGHEST_PROTOCOL)\n",
        "    \n",
        "#save maxWords and maxLen for later use\n",
        "with open(pathToDataCollectorDatabase + slashForDir + 'maxWords.pickle', 'wb') as handle:\n",
        "    pickle.dump(maxWords, handle, protocol=pickle.HIGHEST_PROTOCOL)\n",
        "    \n",
        "with open(pathToDataCollectorDatabase + slashForDir + 'maxLen.pickle', 'wb') as handle:\n",
        "    pickle.dump(maxLen, handle, protocol=pickle.HIGHEST_PROTOCOL)\n",
        "    \n",
        "#save the grade column for later use\n",
        "dataSet1.to_csv(pathToDataCollectorDatabase + slashForDir + 'dataSet1Grades.csv', index=True)"
      ]
    },
    {
      "cell_type": "code",
      "execution_count": null,
      "id": "3a160d99",
      "metadata": {
        "id": "3a160d99",
        "outputId": "8dcba4bd-e413-4fbf-e8d3-756554325d98"
      },
      "outputs": [
        {
          "name": "stdout",
          "output_type": "stream",
          "text": [
            "Tokenizer Stats: \n",
            "Top 1000 words: \n",
            "(\n"
          ]
        }
      ],
      "source": []
    },
    {
      "cell_type": "code",
      "execution_count": null,
      "id": "44212e13",
      "metadata": {
        "id": "44212e13"
      },
      "outputs": [],
      "source": []
    },
    {
      "cell_type": "code",
      "execution_count": null,
      "id": "dce0c753",
      "metadata": {
        "id": "dce0c753",
        "outputId": "15b1f710-ba40-408b-b820-1e13cf64ae60"
      },
      "outputs": [
        {
          "name": "stdout",
          "output_type": "stream",
          "text": [
            "X Length:  68940\n",
            "Grade Length:  68939\n",
            "[[ 0  0  0 ... 27  8  9]\n",
            " [ 0  0  0 ...  7 27  9]\n",
            " [ 0  0  0 ...  7 27  9]\n",
            " ...\n",
            " [ 0  0  0 ...  2  3  9]\n",
            " [ 0  0  0 ...  7 49  9]\n",
            " [ 0  0  0 ...  7 49  9]]\n",
            "[[ 0  0  0 ... 14 10  9]\n",
            " [ 0  0  0 ... 14 10  9]\n",
            " [ 0  0  0 ... 14 10  9]\n",
            " ...\n",
            " [ 0  0  0 ...  4 16  9]\n",
            " [ 0  0  0 ... 25 10  9]\n",
            " [ 0  0  0 ... 29  3  9]]\n"
          ]
        }
      ],
      "source": [
        "#load X for debugging purposes\n",
        "X = np.load(pathToDataCollectorDatabase + slashForDir + 'X.npy')\n",
        "\n",
        "#load tokenizer for debugging purposes\n",
        "with open(pathToDataCollectorDatabase + slashForDir + 'tokenizer.pickle', 'rb') as handle:\n",
        "    tokenizer = pickle.load(handle)\n",
        "    \n",
        "#load maxWords and maxLen for debugging purposes\n",
        "with open(pathToDataCollectorDatabase + slashForDir + 'maxWords.pickle', 'rb') as handle:\n",
        "    maxWords = pickle.load(handle)\n",
        "\n",
        "with open(pathToDataCollectorDatabase + slashForDir + 'maxLen.pickle', 'rb') as handle:\n",
        "    maxLen = pickle.load(handle)\n",
        "    \n",
        "#load the grade column for debugging purposes\n",
        "dataSet1 = pd.read_csv(pathToDataCollectorDatabase + slashForDir + 'dataSet1Grades.csv')\n",
        "\n",
        "#print x length and grade length\n",
        "print(\"X Length: \", len(X))\n",
        "print(\"Grade Length: \", len(dataSet1['grade']))\n",
        "#print the first 10 elements of X\n",
        "print(X[0:10])\n",
        "#print the last 10 elements of X\n",
        "print(X[-10:])\n"
      ]
    },
    {
      "cell_type": "code",
      "execution_count": null,
      "id": "5954b462",
      "metadata": {
        "id": "5954b462",
        "outputId": "1b7f11f2-881b-4ed5-d280-dfa652260de3"
      },
      "outputs": [
        {
          "name": "stdout",
          "output_type": "stream",
          "text": [
            "X Length:  68939\n",
            "Grade Length:  68939\n"
          ]
        }
      ],
      "source": [
        "#drop the last element of x\n",
        "#print x length and grade length\n",
        "print(\"X Length: \", len(X))\n",
        "print(\"Grade Length: \", len(dataSet1['grade']))"
      ]
    },
    {
      "cell_type": "code",
      "execution_count": null,
      "id": "929a4b7e",
      "metadata": {
        "id": "929a4b7e",
        "outputId": "d87eddf8-c178-49f8-9977-3bf81d3f4aeb"
      },
      "outputs": [
        {
          "name": "stdout",
          "output_type": "stream",
          "text": [
            "Mean Word Count:  256.02006086754767\n",
            "Median Word Count:  2.0\n"
          ]
        },
        {
          "data": {
            "image/png": "[encoded data removed]",
            "text/plain": [
              "<Figure size 640x480 with 1 Axes>"
            ]
          },
          "metadata": {},
          "output_type": "display_data"
        },
        {
          "name": "stdout",
          "output_type": "stream",
          "text": [
            "810284\n",
            "9000\n"
          ]
        },
        {
          "data": {
            "image/png": "[encoded data removed]",
            "text/plain": [
              "<Figure size 640x480 with 1 Axes>"
            ]
          },
          "metadata": {},
          "output_type": "display_data"
        }
      ],
      "source": [
        "#Data Analysis for finding the best word count.\n",
        "\n",
        "#print(tokenizer.word_counts)\n",
        "\n",
        "#print a graph of the word counts\n",
        "wordCounts = tokenizer.word_counts\n",
        "wordCounts = sorted(wordCounts.items(), key=lambda x: x[1], reverse=True)\n",
        "wordCounts = dict(wordCounts)\n",
        "wordCounts = list(wordCounts.values())\n",
        "#get mean word count\n",
        "\n",
        "\n",
        "\n",
        "meanWordCount = np.mean(wordCounts)\n",
        "\n",
        "#get the median word count\n",
        "medianWordCount = np.median(wordCounts)\n",
        "\n",
        "print(\"Mean Word Count: \", meanWordCount)\n",
        "print(\"Median Word Count: \", medianWordCount)\n",
        "wordCounts = wordCounts\n",
        "wordCounts = np.clip(wordCounts, 0, 3000)\n",
        "\n",
        "#graph the word counts with a grid\n",
        "plt.plot(wordCounts)\n",
        "plt.ylabel('Occurances')\n",
        "plt.xlabel('Word Rank')\n",
        "plt.title('Word Counts with a dataset of ' + str(len(dataSet1)) + ' entries from ' + str(len(df)) + ' repos')\n",
        "plt.grid(True)\n",
        "plt.show()\n",
        "\n",
        "#graph the amound of words that appear in each file\n",
        "fileWordCounts = tokenizer.word_docs\n",
        "#translate the words to their tokens\n",
        "fileWordCounts = sorted(fileWordCounts.items(), key=lambda x: x[1], reverse=True)\n",
        "fileWordCounts = dict(fileWordCounts)\n",
        "#create a list of dict keys\n",
        "fileWordCountsKey = list(fileWordCounts.keys())\n",
        "print (len(fileWordCountsKey))\n",
        "wordIndex = tokenizer.word_index\n",
        "fileWordCountTokenConversion = []\n",
        "for i in fileWordCounts:\n",
        "    tken = wordIndex[i]\n",
        "    fileWordCountTokenConversion.append(tken)\n",
        " \n",
        "\n",
        "#create a list of FileWordCountTokenConversion and fileWordCounts values combined\n",
        "fileWordCounts = list(fileWordCounts.values())\n",
        "fileWordCounts = np.clip(fileWordCounts, 0, 300000000000000000000000000)\n",
        "fileWordCounts = list(zip(fileWordCountTokenConversion, fileWordCounts))\n",
        "fileWordCounts = sorted(fileWordCounts, key=lambda x: x[1], reverse=True)\n",
        "fileWordCounts = dict(fileWordCounts)\n",
        "fileWordCounts = list(fileWordCounts.values())\n",
        "#get rid of the bottom results\n",
        "fileWordCounts = fileWordCounts[0:9000]\n",
        "#graph the word counts with a grid\n",
        "plt.plot(np.clip(fileWordCounts,0,3000))\n",
        "plt.ylabel('Occurances in diffrent documents')\n",
        "plt.xlabel('Word Rank')\n",
        "plt.title('Word occurances with a dataset of ' + str(len(dataSet1)) + ' entries from ' + str(len(df)) + ' repos')\n",
        "plt.grid(True)\n",
        "#make 0 show on y axis\n",
        "plt.ylim(ymin=0)\n",
        "print (len(fileWordCounts))"
      ]
    },
    {
      "cell_type": "code",
      "execution_count": null,
      "id": "5066887c",
      "metadata": {
        "id": "5066887c",
        "outputId": "d66c9847-5831-4362-c1cd-d276e3d6215a"
      },
      "outputs": [
        {
          "name": "stdout",
          "output_type": "stream",
          "text": [
            "(142402, 2069)\n",
            "test\n"
          ]
        },
        {
          "data": {
            "text/plain": [
              "142402"
            ]
          },
          "execution_count": 34,
          "metadata": {},
          "output_type": "execute_result"
        }
      ],
      "source": [
        "print(X.shape)\n",
        "print(\"test\")\n",
        "len(dataSet1['data'])"
      ]
    },
    {
      "cell_type": "code",
      "execution_count": null,
      "id": "d2994c02",
      "metadata": {
        "id": "d2994c02",
        "outputId": "552edd70-6e94-44b2-dfb6-627c30b2582b"
      },
      "outputs": [
        {
          "name": "stdout",
          "output_type": "stream",
          "text": [
            "Model: \"sequential\"\n",
            "_________________________________________________________________\n",
            " Layer (type)                Output Shape              Param #   \n",
            "=================================================================\n",
            " embedding (Embedding)       (None, 2069, 128)         192128    \n",
            "                                                                 \n",
            " bidirectional (Bidirectiona  (None, 2069, 512)        788480    \n",
            " l)                                                              \n",
            "                                                                 \n",
            " bidirectional_1 (Bidirectio  (None, 256)              656384    \n",
            " nal)                                                            \n",
            "                                                                 \n",
            " flatten (Flatten)           (None, 256)               0         \n",
            "                                                                 \n",
            " dense (Dense)               (None, 256)               65792     \n",
            "                                                                 \n",
            " dense_1 (Dense)             (None, 1)                 257       \n",
            "                                                                 \n",
            "=================================================================\n",
            "Total params: 1,703,041\n",
            "Trainable params: 1,703,041\n",
            "Non-trainable params: 0\n",
            "_________________________________________________________________\n",
            "None\n",
            "  15/3561 [..............................] - ETA: 39:43:35 - loss: 4.5154 - mse: 1312.8257 - mae: 30.7985 - mape: 134958544.0000 - accuracy: 0.0021"
          ]
        }
      ],
      "source": [
        "from tokenize import TokenInfo\n",
        "from keras.models import Sequential\n",
        "from keras.layers import Dense, Flatten, Dropout\n",
        "from keras.layers import Conv1D, MaxPooling1D, Embedding\n",
        "from keras.layers import LSTM\n",
        "from keras.layers import CuDNNLSTM\n",
        "from keras.layers import Bidirectional\n",
        "from keras.layers import ConvLSTM2D\n",
        "from keras.layers import TimeDistributed\n",
        "from keras.layers import Conv2D\n",
        "\n",
        "model = Sequential()\n",
        "\n",
        "#delete the data row of dataSet1\n",
        "\n",
        "#get the number of unique words in the dataset\n",
        "model.add(Embedding(maxWords+1, 128, input_length=X.shape[1]))\n",
        "#model.add(Conv1D(512, 20, activation='relu'))\n",
        "#model.add(Conv1D(256, 20, activation='relu'))\n",
        "#model.add(Bidirectional(LSTM(512, return_sequences=True))) \n",
        "#model.add(Bidirectional(LSTM(256)))\n",
        "model.add(Bidirectional(LSTM(512, return_sequences=True))) \n",
        "model.add(Bidirectional(LSTM(256)))\n",
        "model.add(Flatten())\n",
        "model.add(Dense(512, activation='relu'))\n",
        "model.add(Dense(1, activation='linear'))\n",
        "\n",
        "print(model.summary())\n",
        "model.compile( loss='mean_squared_logarithmic_error', optimizer='adam', metrics=['mse', 'mae', 'mape', 'accuracy'])\n",
        "hist = model.fit(X, np.array(dataSet1['grade'].to_list()),validation_split=0.2, epochs=1, verbose=1)\n",
        "# evaluate the model\n",
        "# plot loss during training\n",
        "plt.subplot(211)\n",
        "plt.title('Loss')\n",
        "plt.plot(hist.history['loss'], label='train')\n",
        "plt.plot(hist.history['val_loss'], label='test')\n",
        "plt.legend()\n",
        "# plot accuracy during training\n",
        "plt.subplot(212)\n",
        "plt.title('Accuracy')\n",
        "plt.plot(hist.history['accuracy'], label='train')\n",
        "plt.plot(hist.history['val_accuracy'], label='test')\n",
        "plt.legend()\n",
        "plt.show()\n",
        "\n",
        "#save the model\n",
        "#model.save('model.h5')"
      ]
    },
    {
      "cell_type": "code",
      "execution_count": null,
      "id": "eb4cd70c",
      "metadata": {
        "id": "eb4cd70c"
      },
      "outputs": [],
      "source": [
        "#save the tokenizer\n",
        "path = convSlashes('D:\\\\models\\\\python')\n",
        "modelName = 'python_model_2_Similar'\n",
        "import pickle\n",
        "\n",
        "#make the directory if it does not exist\n",
        "if not os.path.exists(path):\n",
        "    os.makedirs(path)\n",
        "\n",
        "#make the modelName directory if it does not exist\n",
        "if not os.path.exists(path+modelName):\n",
        "    os.makedirs(path+modelName)\n",
        "\n",
        "with open(path + modelName + slashForDir + 'tokenizer.pickle', 'wb') as handle:\n",
        "    pickle.dump(tokenizer, handle, protocol=pickle.HIGHEST_PROTOCOL)\n",
        "\n",
        "#save the model\n",
        "model.save(path + modelName + slashForDir + 'model.h5')\n",
        "\n",
        "#save info about the model\n",
        "import json\n",
        "modelInfo = {'maxWords': maxWords, 'maxLen': maxLen}\n",
        "with open(path + modelName + slashForDir + 'modelInfo.json', 'w') as outfile:\n",
        "    json.dump(modelInfo, outfile)\n",
        "    outfile.close()\n",
        "    \n",
        "#save Model Stats (hist.history)\n",
        "with open(path + modelName + slashForDir + 'modelStats.json', 'w') as outfile:\n",
        "    json.dump(hist.history, outfile)\n",
        "    outfile.close()\n",
        "    \n",
        "\n",
        "\n"
      ]
    },
    {
      "cell_type": "code",
      "execution_count": null,
      "id": "b836bb1a",
      "metadata": {
        "id": "b836bb1a",
        "outputId": "14fbf42c-beb5-4955-d29d-0b8f1daa3c2d"
      },
      "outputs": [
        {
          "name": "stdout",
          "output_type": "stream",
          "text": [
            "[  0   0   0   0   0   0   0   0   0   0   0   0   0   0   0   0   0   0\n",
            "   0   0   0   0   0   0   0   0   0   0   0   0   0   0   0   0   0   0\n",
            "   0   0   0   0   0   0   0   0   0   0   0   0   0   0   0   0   0   0\n",
            "   0   0   0   0   0   0   0   0   0   0   0   0   0   0   0   0   0   0\n",
            "   0   0   0   0   0   0   0   0   0   0   0   0   0   0   0   0   0   0\n",
            "   0   0   0   0   0   0   0   0   0   0   0   0   0   0   0   0   0   0\n",
            "   0   0   0   0   0   0   0   0   0   0   0   0   0   0   0   0   0   0\n",
            "   0   0   0   0   0   0   0   0   0   0   0   0   0   0   0   0   0   0\n",
            "   0   0   0   0   0   0   0   0   0   0   0   0   0   0   0   0   0   0\n",
            "   0   0   0   0   0   0   0   0   0   0   0   0   0   0   0   0   0   0\n",
            "   0   0   0   0   0   0   0   0   0   0   0   0   0   0   0   0   0   0\n",
            "   0   0   0   0   0   0   0   0   0   0   0   0   0   0   0   0   0   0\n",
            "   0   0   0   0   0   0   0   0   0   0   0   0   0   0   0   0   0   0\n",
            "   0   0   0   0   0   0   0   0   0   0   0   0   0   0   0   0   0   0\n",
            "   0   0   0   0   0   0   0   0   0   0   0   0   0   0   0   0   0   0\n",
            "   0   0   0   0   0   0   0   0   0   0   0   0   0   0   0   0   0   0\n",
            "   0   0   0   0   0   0   0   0   0   0   0   0   0   0   0   0   0   0\n",
            "   0   0   0   0   0   0   0   0   0   0   0   0   0   0   0   0   0   0\n",
            "   0   0   0   0   0   0   0   0   0   0   0   0   0   0   0   0   0   0\n",
            "   0   0   0   0   0   0   0   0   0   0   0   0   0   0   0   0   0   0\n",
            "   0   0   0   0   0   0   0   0   0   0   0   0   0   0   0   0   0   0\n",
            "   0   0   0   0   0   0   0   0   0   0   0   0   0   0   0   0   0   0\n",
            "   0   0   0   0   0   0   0   0   0   0   0   0   0   0   0   0   0   0\n",
            "   0   0   0   0   0   0   0   0   0   0   0   0   0   0   0   0   0   0\n",
            "   0   0   0   0   0   0   0   0   0   0   0   0   0   0   0   0   0   0\n",
            "   0   0   0   0   0   0   0   0   0   0   0   0   0   0   0   0   0   0\n",
            "   0   0   0   0   0   0   0   0   0   0   0   0   0   0   0   0   0   0\n",
            "   0   0   0   0   0   0   0   0   0   0   0   0   0   0   0   0   0   0\n",
            "   0   0   0   0   0   0   0   0   0   0   0   0   0   0   0   0   0   0\n",
            "   0   0   0   0   0   0   0   0   0   0   0   0   0   0   0   0   0   0\n",
            "   0   0   0   0   0   0   0   0   0   0   0   0   0   0   0   0   0   0\n",
            "   0   0   0   0   0   0   0   0   0   0   0   0   0   0   0   0   0   0\n",
            "   0   0   0   0   0   0   0   0   0   0   0   0   0   0   0   0   0   0\n",
            "   0   0   0   0   0   0   0   0   0   0   0   0   0   0   0   0   0   0\n",
            "   0   0   0   0   0   0   0   0   0   0   0   0   0   0   0   0   0   0\n",
            "   0   0   0   0   0   0   0   0   0   0   0   0   0   0   0   0   0   0\n",
            "   0   0   0   0   0   0   0   0   0   0   0   0   0   0   0   0   0   0\n",
            "   0   0   0   0   0   0   0   0   0   0   0   0   0   0   0   0   0   0\n",
            "   0   0   0   0   0   0   0   0   0   0   0   0   0   0   0   0   0   0\n",
            "   0   0  24   1  24  10 711  64 711   1  23  23  12   8  10 133   9  11\n",
            "   1   5  19  17  12   8  14   9  11   1   5   5   7  12   6 711  10   8\n",
            "   9   1   5   5  14  10  55   8  73   8   7  12   9   2   4   9   1   5\n",
            "   5  14  10  55   8 596   8   7  12   9   2   4   9   1   5  19  17  20\n",
            "   8  14   9  11   1   5   5  23  23  20   8 711  10   9  11   1   5   5\n",
            "   5   7  25   6   4   1   5   5   7  20   6  23  20   8   4   2 260   6\n",
            "   4   9   1   5   5  14  10  55   8  73   8   7  20   9   2   4   9   1\n",
            "   5   5  14  10  55   8 596   8   7  20   9   2   4   9   1   5   5  14\n",
            "  10  55   8   7  20  10 260   2   4   9   1   5   5 102  14  10 238   8\n",
            " 615   9  11   1   5   5   5   7  20  10   7  12   1   5   5  14  10  55\n",
            "   8   7  20  15   3  16   2   4   9   1   5   5 102  14  10 238   8   9\n",
            "  11   1   5   5   5   7  20  15   3  16   1   5   5  14  10 238   8 711\n",
            "  10   2  23  20   2   4   9   1   5   5  14  10 238   8 711  10   2  23\n",
            "  20   2 260   6   4   9]\n",
            "['\"strlit\" \\n import os \\n import sys \\n import re \\n import string \\n import \\n import time \\n import glob \\n import subprocess \\n import tempfile \\n import shutil \\n import \\n import . as e \\n import . as \\n import \\n def funct 1 ( ) : \\n \\t var 1 = . ( ) \\n \\t ( options , args ) = e . start ( var 1 , = true ) \\n \\t var 2 = args [ \\'numlit\\' ] \\n \\t if len ( args ) > \\'numlit\\' : \\n \\t \\t var 2 + = \"strlit\" + \"strlit\" . join ( args [ \\'numlit\\' : ] ) + \"strlit\" \\n \\t var 2 = re . sub ( \"strlit\" , \"strlit\" , var 2 ) \\n \\t var 3 = subprocess . call ( var 2 , shell = true , = sys . , stdout = sys . stdout , = os . ( ) , = true ) \\n \\t e . stop ( ) \\n if __name__ = = \"strlit\" : \\n \\t funct 1 ( )']\n"
          ]
        }
      ],
      "source": [
        "#print a random peice of data from the data set\n",
        "import random\n",
        "print(X[random.randint(0, len(X))])\n",
        "#print the text of the random peice of data\n",
        "X_list = random.choice(X).tolist()\n",
        "print(tokenizer.sequences_to_texts([X_list]))\n",
        "\n",
        "\n"
      ]
    },
    {
      "cell_type": "code",
      "execution_count": null,
      "id": "b385e588",
      "metadata": {
        "id": "b385e588"
      },
      "outputs": [],
      "source": [
        "#load the model\n",
        "path= convSlashes('/home/mcall/models')\n",
        "modelName = 'python_model_1_RNN'\n",
        "from keras.models import load_model\n",
        "model = load_model(path + modelName + slashForDir + 'model.h5')\n",
        "\n",
        "#load the tokenizer\n",
        "import pickle\n",
        "with open(path + modelName + slashForDir + 'tokenizer.pickle', 'rb') as handle:\n",
        "    tokenizer = pickle.load(handle)\n",
        "\n",
        "#load the model info\n",
        "import json\n",
        "with open(path + modelName + slashForDir + 'modelInfo.json') as json_file:\n",
        "    modelInfo = json.load(json_file)\n"
      ]
    },
    {
      "cell_type": "code",
      "execution_count": null,
      "id": "ec963d03",
      "metadata": {
        "id": "ec963d03"
      },
      "outputs": [],
      "source": [
        "\"\"\"For comparison, 1000 randomly generated numbers from 1-100 generated and have statistic analysis performed on them\"\"\"\n",
        "randomgrades = []\n",
        "randomgrades2 = []\n",
        "import random\n",
        "import statistics\n",
        "\n",
        "from sklearn.metrics import mean_absolute_percentage_error\n",
        "for i in range(1000):\n",
        "    randomgrades.append(random.randint(1,100))\n",
        "    randomgrades2.append(random.randint(1,100))\n",
        "\n",
        "print(\"Random Grades\")\n",
        "#mean squared error\n",
        "print(\"Mean Squared Error: \", mean_squared_error(randomgrades, randomgrades2))\n",
        "#mean absolute error'\n",
        "print(\"Mean Absolute Error: \", mean_absolute_error(randomgrades, randomgrades2))\n",
        "#mean absolute percentage error\n",
        "print(\"Mean Absolute Percentage Error: \", mean_absolute_percentage_error(randomgrades, randomgrades2))"
      ]
    },
    {
      "cell_type": "code",
      "execution_count": null,
      "id": "5eb875f9",
      "metadata": {
        "id": "5eb875f9"
      },
      "outputs": [],
      "source": [
        "grade = []"
      ]
    },
    {
      "cell_type": "code",
      "execution_count": null,
      "id": "80a0143a",
      "metadata": {
        "id": "80a0143a"
      },
      "outputs": [],
      "source": [
        "#print the tokenizer word index\n",
        "print(tokenizer.word_index)"
      ]
    },
    {
      "cell_type": "code",
      "execution_count": null,
      "id": "16168f32",
      "metadata": {
        "id": "16168f32"
      },
      "outputs": [],
      "source": [
        "#open a file and store the data in a variable\n",
        "#data = open(\"\", 'r', encoding=\"utf8\")\n",
        "#dataread = data.read()\n",
        "#close the file\n",
        "#data.close()\n",
        "\n",
        "dataread = \"\"\"\n",
        "print(\"Hello World\")\n",
        "\n",
        "\n",
        "\"\"\"\n",
        "\n",
        "dataread = stringProcessing(dataread)\n",
        "\n",
        "dataread = stringPadding(dataread)\n",
        "\n",
        "#tokenize the data\n",
        "tokens = tokenizer.texts_to_sequences([dataread])\n",
        "#pad the data\n",
        "tokens = pad_sequences(tokens, maxlen=X.shape[1])\n",
        "#predict the grade\n",
        "grade.append(model.predict(tokens).tolist()[0][0])\n",
        "print(grade)"
      ]
    },
    {
      "cell_type": "code",
      "execution_count": null,
      "id": "98ebd162",
      "metadata": {
        "id": "98ebd162"
      },
      "outputs": [],
      "source": [
        "print(\"test\")"
      ]
    },
    {
      "cell_type": "code",
      "execution_count": null,
      "id": "5c978555",
      "metadata": {
        "id": "5c978555"
      },
      "outputs": [],
      "source": [
        "#Load a 2nd model\n",
        "path= convSlashes('D:\\\\Models\\\\python\\\\')\n",
        "modelName = 'python_model_1'\n",
        "\n",
        "from keras.models import load_model\n",
        "model2 = load_model(path + modelName + slashForDir + 'model.h5')\n",
        "\n",
        "#load the tokenizer\n",
        "import pickle\n",
        "with open(path + modelName + slashForDir + 'tokenizer.pickle', 'rb') as handle:\n",
        "    tokenizer2 = pickle.load(handle)\n",
        "\n",
        "#load the model info\n",
        "import json\n",
        "with open(path + modelName + slashForDir + 'modelInfo.json') as json_file:\n",
        "    modelInfo2 = json.load(json_file)"
      ]
    },
    {
      "cell_type": "code",
      "execution_count": null,
      "id": "10dd9ebc",
      "metadata": {
        "id": "10dd9ebc"
      },
      "outputs": [],
      "source": [
        "\n",
        "\n",
        "\n",
        "#open a file and store the data in a variable\n",
        "data = open(\"C:\\\\Users\\\\Mcall\\Desktop\\\\IT100L-Programming-Logic-and-Design-Laboratory-Course-main\\\\Activity4\\\\Activty2.py\", 'r', encoding=\"utf8\")\n",
        "datareaded = data.read()\n",
        "#close the file\n",
        "data.close()\n",
        "\n",
        "dataread = stringProcessing(datareaded)\n",
        "\n",
        "\n",
        "\n",
        "#tokenize the data\n",
        "tokens = tokenizer2.texts_to_sequences([datareaded])\n",
        "#pad the data\n",
        "tokens = pad_sequences(tokens, maxlen=X.shape[1])\n",
        "#predict the grade\n",
        "grade.append(model2.predict(tokens).tolist()[0][0])\n",
        "print(grade)"
      ]
    }
  ],
  "metadata": {
    "kernelspec": {
      "display_name": "Python 3.10.7 64-bit",
      "language": "python",
      "name": "python3"
    },
    "language_info": {
      "codemirror_mode": {
        "name": "ipython",
        "version": 3
      },
      "file_extension": ".py",
      "mimetype": "text/x-python",
      "name": "python",
      "nbconvert_exporter": "python",
      "pygments_lexer": "ipython3",
      "version": "3.10.7"
    },
    "vscode": {
      "interpreter": {
        "hash": "c698b1669db9799ae19435831d08103b565b62add2c85501414ab067928211b7"
      }
    },
    "colab": {
      "provenance": [],
      "machine_shape": "hm"
    },
    "accelerator": "GPU",
    "gpuClass": "premium"
  },
  "nbformat": 4,
  "nbformat_minor": 5
}