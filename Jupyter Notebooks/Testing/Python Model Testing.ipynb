{
 "cells": [
  {
   "cell_type": "code",
   "execution_count": 18,
   "metadata": {},
   "outputs": [],
   "source": [
    "pathToModels = \"D:\\\\models\\\\python\\\\\"\n",
    "pathToTests = \"D:\\\\modelTests\\\\\"\n",
    "import pickle\n",
    "import keras\n",
    "import tensorflow as tf\n",
    "from keras.models import load_model\n",
    "from keras.preprocessing import image\n",
    "from keras_preprocessing.sequence import pad_sequences\n",
    "import numpy as np\n",
    "import os\n",
    "import json\n",
    "import re\n",
    "import pandas as pd\n",
    "import matplotlib.pyplot as plt\n",
    "\n",
    "# Print iterations progress\n",
    "def printProgressBar (iteration, total, prefix = '', suffix = '', decimals = 1, length = 100, fill = '█', printEnd = \"\\r\"):\n",
    "    \"\"\"\n",
    "    Call in a loop to create terminal progress bar\n",
    "    @params:\n",
    "        iteration   - Required  : current iteration (Int)\n",
    "        total       - Required  : total iterations (Int)\n",
    "        prefix      - Optional  : prefix string (Str)\n",
    "        suffix      - Optional  : suffix string (Str)\n",
    "        decimals    - Optional  : positive number of decimals in percent complete (Int)\n",
    "        length      - Optional  : character length of bar (Int)\n",
    "        fill        - Optional  : bar fill character (Str)\n",
    "        printEnd    - Optional  : end character (e.g. \"\\r\", \"\\r\\n\") (Str)\n",
    "    \"\"\"\n",
    "    percent = (\"{0:.\" + str(decimals) + \"f}\").format(100 * (iteration / float(total)))\n",
    "    filledLength = int(length * iteration // total)\n",
    "    bar = fill * filledLength + '-' * (length - filledLength)\n",
    "    print(f'\\r{prefix} |{bar}| {percent}% {suffix}', end = printEnd)\n",
    "    # Print New Line on Complete\n",
    "    if iteration == total: \n",
    "        print()\n",
    "        \n",
    "def searchFiles(path, fileformats):\n",
    "    filesToDo = []\n",
    "    for root, dirs, files in os.walk(path):\n",
    "        for file in files:\n",
    "            for fileformat in fileformats:\n",
    "                if file.endswith(fileformat):\n",
    "                    #code to generate a list of paths of files to generate logs for\n",
    "                    filesToDo.append(os.path.join(root, file).removeprefix(path))\n",
    "    return filesToDo\n",
    "\n",
    "def searchFileName(path, fileName):\n",
    "    filesToDo = []\n",
    "    for root, dirs, files in os.walk(path):\n",
    "        for file in files:\n",
    "            if file == fileName:\n",
    "                #code to generate a list of paths of files to generate logs for\n",
    "                filesToDo.append(os.path.join(root, file).removeprefix(path))\n",
    "    return filesToDo\n",
    "\n",
    "\n",
    "\n"
   ]
  },
  {
   "cell_type": "code",
   "execution_count": 2,
   "metadata": {},
   "outputs": [],
   "source": [
    "\"Text Processing\"\n",
    "\"Up to date with model creation since 11/18/22\"\n",
    "\n",
    "def stringProcessing(string):\n",
    "    string = string.replace('    ', '\\t')\n",
    "    string = string.replace(\"\\\"\\\"\\\"\" , \"\\\"\")\n",
    "    string = string.replace(\"\\'\\'\\'\" , \"\\\"\")\n",
    "    string = string.replace(\"\\\\'\" , \"\")\n",
    "    string = string.replace('\\\\\"' , \"\")\n",
    "    string = re.sub(\"('|\\\")[\\x1f-\\x7e]{1,}?('|\\\")\", \" \\\"sGH\\\"\", string)\n",
    "    string = re.sub(\"#.*\", \"\", string)\n",
    "    return string\n",
    "\n",
    "\n",
    "to_pad = ['\\n', '\\t', '\\r', '(', ')', '[', ']', '{', '}', '<', '>', '!', '?', ',', '.', ':', ';', '`', '~', '@', '#', '$', '%', '^', '&', '*', '=', '+', '/', '\\\\', '|']\n",
    "\n",
    "def stringPadding(dataSet):\n",
    "    if (type(dataSet) == str):\n",
    "        for i in range(len(to_pad)):\n",
    "            dataSet = dataSet.replace(to_pad[i], ' ' + to_pad[i] + ' ')\n",
    "        return dataSet"
   ]
  },
  {
   "cell_type": "code",
   "execution_count": 6,
   "metadata": {},
   "outputs": [
    {
     "name": "stdout",
     "output_type": "stream",
     "text": [
      "Model: \"sequential\"\n",
      "_________________________________________________________________\n",
      " Layer (type)                Output Shape              Param #   \n",
      "=================================================================\n",
      " embedding (Embedding)       (None, 10000, 2000)       2002000   \n",
      "                                                                 \n",
      " conv1d (Conv1D)             (None, 9997, 256)         2048256   \n",
      "                                                                 \n",
      " conv1d_1 (Conv1D)           (None, 9994, 256)         262400    \n",
      "                                                                 \n",
      " flatten (Flatten)           (None, 2558464)           0         \n",
      "                                                                 \n",
      " dense (Dense)               (None, 128)               327483520 \n",
      "                                                                 \n",
      " dense_1 (Dense)             (None, 1)                 129       \n",
      "                                                                 \n",
      "=================================================================\n",
      "Total params: 331,796,305\n",
      "Trainable params: 331,796,305\n",
      "Non-trainable params: 0\n",
      "_________________________________________________________________\n"
     ]
    }
   ],
   "source": [
    "#load 1 model\n",
    "modelName = \"python_model_1_IMPROVED\"\n",
    "model = load_model(pathToModels + modelName + '\\\\model.h5')\n",
    "model.summary()\n",
    "import pickle\n",
    "with open(pathToModels + modelName + '\\\\tokenizer.pickle', 'rb') as handle:\n",
    "    tokenizer = pickle.load(handle)\n",
    "with open(pathToModels + modelName + '\\\\modelInfo.json') as json_file:\n",
    "    modelInfo = json.load(json_file)\n",
    "    modelInfo = {**modelInfo, **{\"modelName\": modelName}}\n"
   ]
  },
  {
   "cell_type": "code",
   "execution_count": 49,
   "metadata": {},
   "outputs": [],
   "source": [
    "\"load Array of models\"\n",
    "modelNames = [\"python_model_1\", \"python_model_1_IMPROVED\"]\n",
    "models = []\n",
    "tokenizers = []\n",
    "modelInfos = []\n",
    "for modelName in modelNames:\n",
    "    model = load_model(pathToModels + modelName + '/model.h5')\n",
    "    models.append(model)\n",
    "    with open(pathToModels + modelName + '/tokenizer.pickle', 'rb') as handle:\n",
    "        tokenizer = pickle.load(handle)\n",
    "        tokenizers.append(tokenizer)\n",
    "    with open(pathToModels + modelName + '/modelInfo.json') as json_file:\n",
    "        modelInfo = json.load(json_file)\n",
    "        #add the model name\n",
    "        modelInfo = {**modelInfo, **{\"modelName\": modelName}}\n",
    "        modelInfos.append(modelInfo)"
   ]
  },
  {
   "cell_type": "code",
   "execution_count": 56,
   "metadata": {},
   "outputs": [],
   "source": [
    "\"Test Models\"\n",
    "\n",
    "\"\"\"Folder definition for Model Testing:\n",
    "FOLDER:\n",
    "testInfo.json (Contains the type of test and information for each file. See below)\n",
    "testCode\n",
    "\"\"\"\n",
    "\n",
    "\"\"\"Types of test: \n",
    "Pos Linear comparative (PosLinCar): Each sequential file is expected to score higher than the last. Files are named 0.txt, 1.txt, 2.txt, etc.\n",
    "Neutral (Neutral): Each file is expected to score about the same. Files are named 0.txt, 1.txt, 2.txt, etc.\n",
    "\n",
    "\"\"\"\n",
    "\n",
    "\n",
    "\n",
    "def modelTesting(modell, tokenizerl, modelInfol, testFolder): \n",
    "    with open(testFolder + '\\\\testInfo.json') as json_file:\n",
    "        testInfo = json.load(json_file)\n",
    "    #Check if model is an array of models\n",
    "    if (type(modell) == list):\n",
    "        for i in range(len(modell)):\n",
    "            modelTestingRunner(modell[i], tokenizerl[i], modelInfol[i], testFolder, testInfo)\n",
    "    else:\n",
    "        modelTestingRunner(modell, tokenizerl, modelInfol, testFolder, testInfo)\n",
    "        \n",
    "def modelTestingRunner(modell, tokenizerl, modelInfol, testFolder, testInfo):\n",
    "    print (\"Testing \" + modelInfol[\"modelName\"])\n",
    "    if testInfo['type'] == 'LinCar':\n",
    "        posLinCarTest(modell, tokenizerl, modelInfol, testFolder)\n",
    "    if testInfo['type'] == 'Neutral':\n",
    "        neutralTest(modell, tokenizerl, modelInfol, testFolder)\n",
    "    #Check if model is an array of models\n",
    "\n",
    "    \n",
    "def posLinCarTest(modell, tokenizerl, modelInfo1, testFolder):\n",
    "    #load testInfo.json\n",
    "    scores = []\n",
    "    #load testCode\n",
    "    filesToLoad = searchFiles(testFolder, ['.py'])\n",
    "    for file in filesToLoad:\n",
    "        with open(testFolder + file) as f:\n",
    "            code = f.read()\n",
    "            code = stringProcessing(code)\n",
    "            code = stringPadding(code)\n",
    "            code = tokenizerl.texts_to_sequences([code])\n",
    "            code = pad_sequences(code, maxlen=modelInfo1['maxLen'])\n",
    "            score = modell.predict(code)\n",
    "            scores = np.append(scores, score)\n",
    "            \n",
    "    scoresDelta = []\n",
    "    for i in range(len(scores) - 1):\n",
    "        scoresDelta = np.append(scoresDelta, scores[i + 1] - scores[i])\n",
    "    print (scores)\n",
    "    print (scoresDelta)\n",
    "    print (\"expected outcome, scores should go up as the files go up, scoresDeltas should be positive\")\n",
    "    #graph scores in a scatter plot \n",
    "    plt.scatter(range(len(scores)), scores, label=modelInfo1['modelName'])\n",
    "    plt.legend()\n",
    "    plt.show()\n",
    "    plt.scatter(range(len(scoresDelta)), scoresDelta, label=modelInfo1['modelName']+ \" Delta\")\n",
    "    plt.legend()\n",
    "    plt.show()\n",
    "\n",
    "    \n",
    "def neutralTest(modell, tokenizerl, modelInfo1, testFolder):\n",
    "    scores = []\n",
    "    #load testCode\n",
    "    filesToLoad = searchFiles(testFolder, ['.py'])\n",
    "    for file in filesToLoad:\n",
    "        with open(testFolder + file) as f:\n",
    "            code = f.read()\n",
    "            code = stringProcessing(code)\n",
    "            code = stringPadding(code)\n",
    "            code = tokenizerl.texts_to_sequences([code])\n",
    "            code = pad_sequences(code, maxlen=modelInfo1['maxLen'])\n",
    "            score = modell.predict(code)\n",
    "            scores = np.append(scores, score)\n",
    "            \n",
    "    scoresDelta = []\n",
    "    for i in range(len(scores) - 1):\n",
    "        scoresDelta = np.append(scoresDelta, scores[i + 1] - scores[i])\n",
    "    print (scores)\n",
    "    print (scoresDelta)\n",
    "    print (\"Biggest Score Delta: \" + str(max(scoresDelta)))\n",
    "    print (\"expected outcome, scores should be about the same, scoresDeltas should be about the same\")\n",
    "    #graph scores in a scatter plot, label the score the model name\n",
    "    plt.scatter(range(len(scores)), scores, label=modelInfo1['modelName'])\n",
    "    plt.legend()\n",
    "    plt.show()\n",
    "    plt.scatter(range(len(scoresDelta)), scoresDelta, label=modelInfo1['modelName']+ \" Delta\")\n",
    "    plt.legend()\n",
    "    plt.show()\n",
    "\n",
    "    "
   ]
  },
  {
   "cell_type": "code",
   "execution_count": 57,
   "metadata": {},
   "outputs": [
    {
     "name": "stdout",
     "output_type": "stream",
     "text": [
      "{'maxWords': 1000, 'maxLen': 10000, 'modelName': 'python_model_1_IMPROVED'}\n",
      "Testing python_model_1\n",
      "1/1 [==============================] - 1s 729ms/step\n",
      "1/1 [==============================] - 1s 687ms/step\n",
      "[54.54732513 52.54072189]\n",
      "[-2.00660324]\n",
      "expected outcome, scores should go up as the files go up, scoresDeltas should be positive\n"
     ]
    },
    {
     "data": {
      "image/png": "[encoded data removed]",
      "text/plain": [
       "<Figure size 640x480 with 1 Axes>"
      ]
     },
     "metadata": {},
     "output_type": "display_data"
    },
    {
     "data": {
      "image/png": "[encoded data removed]",
      "text/plain": [
       "<Figure size 640x480 with 1 Axes>"
      ]
     },
     "metadata": {},
     "output_type": "display_data"
    },
    {
     "name": "stdout",
     "output_type": "stream",
     "text": [
      "Testing python_model_1_IMPROVED\n",
      "1/1 [==============================] - 1s 948ms/step\n",
      "1/1 [==============================] - 1s 642ms/step\n",
      "[24.94569588 27.18945694]\n",
      "[2.24376106]\n",
      "expected outcome, scores should go up as the files go up, scoresDeltas should be positive\n"
     ]
    },
    {
     "data": {
      "image/png": "[encoded data removed]",
      "text/plain": [
       "<Figure size 640x480 with 1 Axes>"
      ]
     },
     "metadata": {},
     "output_type": "display_data"
    },
    {
     "data": {
      "image/png": "[encoded data removed]",
      "text/plain": [
       "<Figure size 640x480 with 1 Axes>"
      ]
     },
     "metadata": {},
     "output_type": "display_data"
    }
   ],
   "source": [
    "\"temp testing stuff\"\n",
    "print (modelInfo)\n",
    "modelTesting(models, tokenizers, modelInfos, pathToTests + 'dummyTestLinCar')\n"
   ]
  }
 ],
 "metadata": {
  "kernelspec": {
   "display_name": "Python 3.10.7 64-bit",
   "language": "python",
   "name": "python3"
  },
  "language_info": {
   "codemirror_mode": {
    "name": "ipython",
    "version": 3
   },
   "file_extension": ".py",
   "mimetype": "text/x-python",
   "name": "python",
   "nbconvert_exporter": "python",
   "pygments_lexer": "ipython3",
   "version": "3.10.7"
  },
  "orig_nbformat": 4,
  "vscode": {
   "interpreter": {
    "hash": "c698b1669db9799ae19435831d08103b565b62add2c85501414ab067928211b7"
   }
  }
 },
 "nbformat": 4,
 "nbformat_minor": 2
}
