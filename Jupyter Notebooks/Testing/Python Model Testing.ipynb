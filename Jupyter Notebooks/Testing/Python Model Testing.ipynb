{
 "cells": [
  {
   "cell_type": "code",
   "execution_count": null,
   "metadata": {},
   "outputs": [],
   "source": [
    "path = \"D:\\models\\python\"\n",
    "import pickle\n",
    "import keras\n",
    "import tensorflow as tf\n",
    "from keras.models import load_model\n",
    "from keras.preprocessing import image\n",
    "import numpy as np\n",
    "import os\n",
    "import json\n",
    "import sys\n",
    "import time\n",
    "import datetime\n",
    "import shutil\n",
    "import subprocess\n",
    "import re\n",
    "import pandas as pd\n",
    "import matplotlib.pyplot as plt\n",
    "import seaborn as sns\n",
    "import random\n",
    "import math\n",
    "\n",
    "\n",
    "\n"
   ]
  },
  {
   "cell_type": "code",
   "execution_count": null,
   "metadata": {},
   "outputs": [],
   "source": [
    "#load 1 model\n",
    "modelName = \"python_model_1\"\n",
    "model = load_model(path + modelName + '/model.h5')\n",
    "model.summary()\n",
    "import pickle\n",
    "with open(path + modelName + '/tokenizer.pickle', 'rb') as handle:\n",
    "    tokenizer = pickle.load(handle)\n",
    "with open(path + modelName + '/modelInfo.json') as json_file:\n",
    "    modelInfo = json.load(json_file)"
   ]
  },
  {
   "cell_type": "code",
   "execution_count": null,
   "metadata": {},
   "outputs": [],
   "source": [
    "\"load Array of models\""
   ]
  },
  {
   "cell_type": "code",
   "execution_count": null,
   "metadata": {},
   "outputs": [],
   "source": [
    "\"Test Models\"\n"
   ]
  }
 ],
 "metadata": {
  "kernelspec": {
   "display_name": "Python 3.10.7 64-bit",
   "language": "python",
   "name": "python3"
  },
  "language_info": {
   "name": "python",
   "version": "3.10.7"
  },
  "orig_nbformat": 4,
  "vscode": {
   "interpreter": {
    "hash": "c698b1669db9799ae19435831d08103b565b62add2c85501414ab067928211b7"
   }
  }
 },
 "nbformat": 4,
 "nbformat_minor": 2
}
