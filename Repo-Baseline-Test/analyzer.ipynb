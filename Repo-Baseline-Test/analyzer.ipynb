{
 "cells": [
  {
   "cell_type": "code",
   "execution_count": 29,
   "metadata": {},
   "outputs": [],
   "source": [
    "import os\n",
    "\n",
    "\n",
    "class gradeDataFile:\n",
    "    name : str\n",
    "    data : list\n",
    "    \n",
    "def searchFileFormat(path, fileformats):\n",
    "    filesToDo = []\n",
    "    for root, dirs, files in os.walk(path):\n",
    "        for file in files:\n",
    "            for fileformat in fileformats:\n",
    "                if file.endswith(fileformat):\n",
    "                    #code to generate a list of paths of files to generate logs for\n",
    "                    filesToDo.append(os.path.join(root, file).split(path)[1])\n",
    "    return filesToDo\n",
    "\n",
    "def readFile(path):\n",
    "    file = open(path, \"r\")\n",
    "    filecontents = file.read()\n",
    "    file.close()\n",
    "    return filecontents\n",
    "\n"
   ]
  },
  {
   "cell_type": "code",
   "execution_count": 36,
   "metadata": {},
   "outputs": [],
   "source": [
    "folderToSearch = \"C:\\\\Users\\\\Mcall\\\\Desktop\\\\graderOutput\"\n",
    "\n",
    "filesToUse = searchFileFormat(folderToSearch, [\".txt\"])\n",
    "grades = []\n",
    "for file in filesToUse:\n",
    "    currentGrade = gradeDataFile()\n",
    "    currentGrade.name = file.split(\".\")[0].split(\"\\\\\")[-1]\n",
    "    currentGrade.data = []\n",
    "\n",
    "    filecontents = readFile(folderToSearch + file)\n",
    "\n",
    "    #code to parse the filecontents into a list of gradeDataFile objects\n",
    "    #example of filecontents: \n",
    "    \"\"\"\\2|30.113801956176758\n",
    "    \\4|30.236745834350586\"\"\"\n",
    "\n",
    "    for line in filecontents.splitlines():\n",
    "        if line.startswith(\"\\\\\"):\n",
    "            currentGrade.data.append(line.split(\"|\")[1])\n",
    "    grades.append(currentGrade)\n",
    "    \n",
    "            "
   ]
  },
  {
   "cell_type": "code",
   "execution_count": 37,
   "metadata": {},
   "outputs": [
    {
     "name": "stdout",
     "output_type": "stream",
     "text": [
      "Total number of grades: 659\n",
      "Total number of grades minus 1 each: 362\n"
     ]
    }
   ],
   "source": [
    "#get the total number of grades\n",
    "totalGrades = 0\n",
    "for grade in grades:\n",
    "    totalGrades += len(grade.data)\n",
    "print (\"Total number of grades: \" + str(totalGrades))\n",
    "totalGradesminus1each = totalGrades - len(grades)\n",
    "print (\"Total number of grades minus 1 each: \" + str(totalGradesminus1each))"
   ]
  },
  {
   "cell_type": "code",
   "execution_count": 38,
   "metadata": {},
   "outputs": [
    {
     "name": "stdout",
     "output_type": "stream",
     "text": [
      "higher: 122\n",
      "lower: 172\n",
      "same: 174\n"
     ]
    }
   ],
   "source": [
    "#check how many sucessive grades are higher than the previous one\n",
    "higher = 0\n",
    "lower = 0\n",
    "same = 0\n",
    "for grade in grades:\n",
    "    for i in range(1, len(grade.data)):\n",
    "        if float(grade.data[i]) > float(grade.data[i-1]):\n",
    "            higher += 1\n",
    "        elif float(grade.data[i]) < float(grade.data[i-1]):\n",
    "            lower +=1\n",
    "        else :\n",
    "            same += 1            \n",
    "print(\"higher: \" + str(higher))\n",
    "print(\"lower: \" + str(lower))\n",
    "print (\"same: \" + str(same))\n",
    "            "
   ]
  },
  {
   "cell_type": "code",
   "execution_count": 39,
   "metadata": {},
   "outputs": [
    {
     "name": "stdout",
     "output_type": "stream",
     "text": [
      "higher: 220\n",
      "lower: 144\n"
     ]
    }
   ],
   "source": [
    "#check if the first grade is higher than the last one\n",
    "higher = 0\n",
    "lower = 0\n",
    "for grade in grades:\n",
    "    for i in range(1, len(grade.data)):\n",
    "        if float(grade.data[0]) > float(grade.data[-1]):\n",
    "            higher += 1\n",
    "        elif float(grade.data[0]) < float(grade.data[-1]):\n",
    "            lower +=1\n",
    "            \n",
    "print(\"higher: \" + str(higher))\n",
    "print(\"lower: \" + str(lower))        "
   ]
  }
 ],
 "metadata": {
  "kernelspec": {
   "display_name": "Python 3",
   "language": "python",
   "name": "python3"
  },
  "language_info": {
   "codemirror_mode": {
    "name": "ipython",
    "version": 3
   },
   "file_extension": ".py",
   "mimetype": "text/x-python",
   "name": "python",
   "nbconvert_exporter": "python",
   "pygments_lexer": "ipython3",
   "version": "3.10.7"
  },
  "orig_nbformat": 4
 },
 "nbformat": 4,
 "nbformat_minor": 2
}
